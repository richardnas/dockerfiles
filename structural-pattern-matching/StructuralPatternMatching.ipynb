{
 "cells": [
  {
   "cell_type": "markdown",
   "id": "482163c4",
   "metadata": {},
   "source": [
    "# Python 3.10 Structural Pattern Matching"
   ]
  },
  {
   "cell_type": "markdown",
   "id": "3565f115",
   "metadata": {},
   "source": [
    "[PEP 634 - Structural Pattern Matching: Specification](https://www.python.org/dev/peps/pep-0634/)\n",
    "\n",
    "[PEP 635 - Structural Pattern Matching: Motivation and Rationale](https://www.python.org/dev/peps/pep-0635/)\n",
    "\n",
    "[PEP 636 - Structural Pattern Matching: Tutorial](https://www.python.org/dev/peps/pep-0636/)"
   ]
  },
  {
   "cell_type": "markdown",
   "id": "1585fd07",
   "metadata": {},
   "source": [
    "```scala\n",
    "match subject:\n",
    "    case pattern: # Compares the subject with pattern \n",
    "        ...\n",
    "    case pattern1 | pattern2: # Compare the subject with pattern1 or pattern2\n",
    "        ...\n",
    "    case [x]: # Capture item in a list\n",
    "        ...\n",
    "    case [x, y, z]: # Capture items in a list\n",
    "        ...\n",
    "    case (x): # Capture item in a tuple\n",
    "        ...\n",
    "    case (x,y,z): # Capture items in a tuple\n",
    "        ...\n",
    "    case [x, y, *other]: # Capture x, y and a list of other members in the list\n",
    "        ...\n",
    "    case {'id': int(id), 'message': str(msg)}: # Capture id and message in dictionary\n",
    "        ...\n",
    "    case _:\n",
    "        ...\n",
    "```"
   ]
  },
  {
   "cell_type": "markdown",
   "id": "98ffdd4b",
   "metadata": {},
   "source": [
    "### Dummy example"
   ]
  },
  {
   "cell_type": "code",
   "execution_count": null,
   "id": "17683225",
   "metadata": {},
   "outputs": [],
   "source": [
    "a,b,c,d = 1,2,3,4\n",
    "# a,b,c,d = 4,5,6,7\n",
    "# a,b,c,d = 8,9,10,11"
   ]
  },
  {
   "cell_type": "code",
   "execution_count": null,
   "id": "f1ff47cc",
   "metadata": {},
   "outputs": [],
   "source": [
    "if a == 1 and b == 2 and c == 3 and d == 4:\n",
    "    print('I get 1,2,3,4')\n",
    "elif a ==4 and b == 5 and c == 6 and d == 7:\n",
    "    print('I get 4,5,6,7')\n",
    "else:\n",
    "    print('Whatever')"
   ]
  },
  {
   "cell_type": "code",
   "execution_count": null,
   "id": "e13f63bc",
   "metadata": {},
   "outputs": [],
   "source": [
    "match a,b,c,d:\n",
    "    case 1,2,3,4:\n",
    "        print('I get 1,2,3,4')\n",
    "    case 4,5,6,7:\n",
    "        print('I get 4,5,6,7')\n",
    "    case _:\n",
    "        print('Whatever')"
   ]
  },
  {
   "cell_type": "markdown",
   "id": "352fa896",
   "metadata": {},
   "source": [
    "### Command example"
   ]
  },
  {
   "cell_type": "code",
   "execution_count": null,
   "id": "cf42fc10",
   "metadata": {},
   "outputs": [],
   "source": [
    "usage=\"\"\"\n",
    "Usage this-command COMMAND process1 process2 ...\n",
    "\n",
    "Commands: { start | create | delete }\n",
    "\n",
    "  start      Quas aut voluptatem consequatur numquam eum id. \n",
    "  create   Nesciunt perferendis saepe corrupti quia enim consequatur facere modi. \n",
    "  delete   Deleniti sequi aut aut recusandae magni magnam et minima.\n",
    "\n",
    "\"\"\""
   ]
  },
  {
   "cell_type": "markdown",
   "id": "e6d5126c",
   "metadata": {},
   "source": [
    "#### Matching specific values"
   ]
  },
  {
   "cell_type": "code",
   "execution_count": null,
   "id": "1b2f1e01",
   "metadata": {},
   "outputs": [],
   "source": [
    "# command = ['']\n",
    "# command = ['start', 'my_process']\n",
    "# command = ['create', 'my_process1', 'my_process2'] # This is unexpected\n",
    "\n",
    "match command:\n",
    "    case 'start', process_name:\n",
    "        print('Starting: ' + process_name)\n",
    "    case 'create', process_name:\n",
    "        print('Creating: ' + process_name)\n",
    "    case 'delete', process_name:\n",
    "        print('Deleting: ' + process_name)\n",
    "    case _:\n",
    "        print(usage)\n"
   ]
  },
  {
   "cell_type": "markdown",
   "id": "a329850e",
   "metadata": {},
   "source": [
    "#### Matching multiple values"
   ]
  },
  {
   "cell_type": "code",
   "execution_count": null,
   "id": "8b4e016e",
   "metadata": {},
   "outputs": [],
   "source": [
    "# command = ['']\n",
    "# command = ['start', 'my_process']\n",
    "# command = ['create', 'my_process1', 'my_process2']\n",
    "command = ['delete', 'my_process1', 'my_process2', 'my_process3']\n",
    "\n",
    "match command:\n",
    "    case 'start', *process_names:\n",
    "        print('Starting ' + ', '.join(process_names))\n",
    "    case 'create', *process_names:\n",
    "        print('Creating ' + ', '.join(process_names))\n",
    "    case 'delete', *process_names:\n",
    "        print('Deleting ' + ', '.join(process_names))\n",
    "    case _:\n",
    "        print(usage)\n"
   ]
  },
  {
   "cell_type": "markdown",
   "id": "2f09c6eb",
   "metadata": {},
   "source": [
    "#### Alternative using if/else"
   ]
  },
  {
   "cell_type": "code",
   "execution_count": null,
   "id": "7bd01b16",
   "metadata": {},
   "outputs": [],
   "source": [
    "\n",
    "# command = ['']\n",
    "# command = ['start', 'my_process']\n",
    "# command = ['create', 'my_process1', 'my_process2']\n",
    "command = ['delete', 'my_process1', 'my_process2', 'my_process3']\n",
    "\n",
    "if command[0] == 'start' and len(command) >= 2:\n",
    "    print('Starting ' + ', '.join(command[1:]))\n",
    "elif command[0] == 'create' and len(command) >= 2:\n",
    "    print('Creating ' + ', '.join(command[1:]))\n",
    "elif command[0] == 'delete' and len(command) >= 2:\n",
    "    print('Deleting ' + ', '.join(command[1:]))\n",
    "else:\n",
    "    print(usage)\n"
   ]
  },
  {
   "cell_type": "markdown",
   "id": "58fa9250",
   "metadata": {},
   "source": [
    "### Status code example"
   ]
  },
  {
   "cell_type": "code",
   "execution_count": null,
   "id": "ebb951bc",
   "metadata": {},
   "outputs": [],
   "source": [
    "status_code = 405\n",
    "\n",
    "\n",
    "match status_code:\n",
    "    case 200:\n",
    "        print('OK')\n",
    "    case 301 | 302:\n",
    "        print('GOTO ...')\n",
    "    case (400 | 404 | 405) as error:\n",
    "        print('ERROR! STATUS CODE: ' + str(error))\n",
    "        "
   ]
  },
  {
   "cell_type": "markdown",
   "id": "08c85f32",
   "metadata": {},
   "source": [
    "### Geometry example"
   ]
  },
  {
   "cell_type": "markdown",
   "id": "1e405c76",
   "metadata": {},
   "source": [
    "#### Capture patterns"
   ]
  },
  {
   "cell_type": "code",
   "execution_count": null,
   "id": "64ee375e",
   "metadata": {
    "scrolled": true
   },
   "outputs": [],
   "source": [
    "from math import pi\n",
    "from dataclasses import dataclass\n",
    "\n",
    "@dataclass\n",
    "class Circle:\n",
    "    ratio: float\n",
    "\n",
    "@dataclass\n",
    "class Triangle:\n",
    "    side_a: float\n",
    "    side_b: float\n",
    "    side_c: float\n",
    "\n",
    "@dataclass\n",
    "class Rectangle:\n",
    "    side_a: float\n",
    "    side_b: float\n",
    "    side_c: float\n",
    "    side_d: float\n",
    "\n",
    "\n",
    "# shape = Circle(3)\n",
    "# shape = Triangle(4,4,4)\n",
    "# shape = Rectangle(4,3,3,4)\n",
    "        \n",
    "match shape:\n",
    "    case Circle(ratio=r):\n",
    "        perimeter = 2 * pi * r\n",
    "        print('Circle perimeter = ' + str(perimeter))\n",
    "    case Triangle(side_a=a, side_b=b, side_c=c):\n",
    "        perimeter = a + b + c\n",
    "        print('Triangle perimeter = ' + str(perimeter))\n",
    "    case Rectangle(side_a=a, side_b=b, side_c=c, side_d=d):\n",
    "        perimeter = a + b + c + d\n",
    "        print('Rectangle perimeter = ' + str(perimeter))\n",
    "    case _:\n",
    "        pass"
   ]
  },
  {
   "cell_type": "markdown",
   "id": "5eac121a",
   "metadata": {},
   "source": [
    "#### Capture patterns using `as`"
   ]
  },
  {
   "cell_type": "code",
   "execution_count": null,
   "id": "16d6b115",
   "metadata": {},
   "outputs": [],
   "source": [
    "from math import pi\n",
    "from dataclasses import dataclass\n",
    "\n",
    "@dataclass\n",
    "class Circle:\n",
    "    ratio: float\n",
    "    def perimeter(self) -> float:\n",
    "        return 2 * pi * self.ratio\n",
    "\n",
    "@dataclass\n",
    "class Triangle:\n",
    "    side_a: float\n",
    "    side_b: float\n",
    "    side_c: float\n",
    "    def perimeter(self) -> float:\n",
    "        return sum(self.__dict__.values())\n",
    "\n",
    "@dataclass\n",
    "class Rectangle:\n",
    "    side_a: float\n",
    "    side_b: float\n",
    "    side_c: float\n",
    "    side_d: float\n",
    "    def perimeter(self) -> float:\n",
    "        return sum(self.__dict__.values())\n",
    "\n",
    "\n",
    "# shape = Circle(3)\n",
    "# shape = Triangle(4,4,4)\n",
    "shape = Rectangle(4,3,3,4)\n",
    "        \n",
    "match shape:\n",
    "    case Circle() as c:\n",
    "        print('Circle perimeter = ' + str(c.perimeter()))\n",
    "    case Triangle() as t:\n",
    "        print('Triangle perimeter = ' + str(t.perimeter()))\n",
    "    case Rectangle() as r:\n",
    "        print('Rectangle perimeter = ' + str(r.perimeter()))\n",
    "    case _:\n",
    "        pass\n",
    "\n",
    "    "
   ]
  },
  {
   "cell_type": "markdown",
   "id": "9e5aa230",
   "metadata": {},
   "source": [
    "### Dictionary example"
   ]
  },
  {
   "cell_type": "markdown",
   "id": "bc648c1f",
   "metadata": {},
   "source": [
    "#### Dictionary matching"
   ]
  },
  {
   "cell_type": "code",
   "execution_count": null,
   "id": "4328bb77",
   "metadata": {},
   "outputs": [],
   "source": [
    "response = {'success': True, 'message': 'Values found'}\n",
    "# response = {'success': False, 'message': 'Values not found'}\n",
    "# response = {'error': 'Coffee not found'}\n",
    "\n",
    "match response:\n",
    "    case {'success': True, 'message': str(msg)}:\n",
    "        print(\"Successfully! :)\")\n",
    "        print(\"Message: \" + msg)\n",
    "    case {'success': False, 'message': str(msg)}:\n",
    "        print(\"Unsuccessfully :(\")\n",
    "        print(\"Message: \" + msg)\n",
    "    case {'error': str(err)}:\n",
    "        print(\"!!!!!!!!!!!!!!!!!!\")\n",
    "        print(\" -> Error: \" + err)\n",
    "        print(\"!!!!!!!!!!!!!!!!!!\")\n",
    "    \n"
   ]
  },
  {
   "cell_type": "code",
   "execution_count": null,
   "id": "cf4e4a1e",
   "metadata": {},
   "outputs": [],
   "source": [
    "response = {'success': True, 'message': 'Values found'}\n",
    "# response = {'success': False, 'message': 'Values not found'}\n",
    "# response = {'error': 'Coffee not found'}\n",
    "\n",
    "match response:\n",
    "    case {'success': True, 'message': str(x)} | {'success': False, 'message': str(x)}:\n",
    "        print(\"Successfully! :)\")\n",
    "        print(\"Message: \" + x)\n",
    "    case {'success': False, 'message': str(x)}:\n",
    "        print(\"Unsuccessfully :(\")\n",
    "        print(\"Message: \" + x)\n",
    "    case {'error': str(x)}:\n",
    "        print(\"!!!!!!!!!!!!!!!!!!\")\n",
    "        print(\" -> Error: \" + x)\n",
    "        print(\"!!!!!!!!!!!!!!!!!!\")\n",
    "    \n"
   ]
  },
  {
   "cell_type": "markdown",
   "id": "f11b662f",
   "metadata": {},
   "source": [
    "#### Uses with typing"
   ]
  },
  {
   "cell_type": "code",
   "execution_count": null,
   "id": "2e610857",
   "metadata": {},
   "outputs": [],
   "source": [
    "from typing import Optional\n",
    "\n",
    "res: Optional[str] = 'Hello World'\n",
    "# res: Optional[str] = None\n",
    "    \n",
    "match res:\n",
    "    case str(msg):\n",
    "        print(msg)\n",
    "    case None:\n",
    "        print('Error')"
   ]
  },
  {
   "cell_type": "code",
   "execution_count": null,
   "id": "49da0582",
   "metadata": {},
   "outputs": [],
   "source": []
  }
 ],
 "metadata": {
  "kernelspec": {
   "display_name": "Python 3",
   "language": "python",
   "name": "python3"
  },
  "language_info": {
   "codemirror_mode": {
    "name": "ipython",
    "version": 3
   },
   "file_extension": ".py",
   "mimetype": "text/x-python",
   "name": "python",
   "nbconvert_exporter": "python",
   "pygments_lexer": "ipython3",
   "version": "3.10.0b1"
  }
 },
 "nbformat": 4,
 "nbformat_minor": 5
}
